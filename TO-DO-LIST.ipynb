{
 "cells": [
  {
   "cell_type": "markdown",
   "id": "75f60fa0",
   "metadata": {},
   "source": [
    "# Import necessary modules"
   ]
  },
  {
   "cell_type": "code",
   "execution_count": 1,
   "id": "5b601213",
   "metadata": {},
   "outputs": [],
   "source": [
    "from tkinter import *\n",
    "import tkinter.messagebox"
   ]
  },
  {
   "cell_type": "markdown",
   "id": "45fd1df3",
   "metadata": {},
   "source": [
    "# Function to add a task"
   ]
  },
  {
   "cell_type": "code",
   "execution_count": 2,
   "id": "9ce04d04",
   "metadata": {},
   "outputs": [],
   "source": [
    "def add_task():\n",
    "    global entry_task  # Make entry_task global so that it can be accessed in add_task\n",
    "    input_text = entry_task.get(1.0, \"end-1c\")\n",
    "    if input_text == \"\":\n",
    "        tkinter.messagebox.showwarning(title=\"Warning!\", message=\"Please Enter some Text\")\n",
    "    else:\n",
    "        listbox_task.insert(END, input_text)\n",
    "        root_add_task.destroy()"
   ]
  },
  {
   "cell_type": "markdown",
   "id": "fe454aad",
   "metadata": {},
   "source": [
    "# Function to create a window for entering a task"
   ]
  },
  {
   "cell_type": "code",
   "execution_count": 3,
   "id": "5e7f09f2",
   "metadata": {},
   "outputs": [],
   "source": [
    "def enter_task():\n",
    "    global entry_task, root_add_task\n",
    "    root_add_task = Tk()\n",
    "    root_add_task.title(\"Add Task\")\n",
    "    \n",
    "    entry_task = Text(root_add_task, width=40, height=4)\n",
    "    entry_task.pack()\n",
    "    \n",
    "    button_add_task = Button(root_add_task, text=\"Add Task\", command=add_task)\n",
    "    button_add_task.pack()\n",
    "    \n",
    "    root_add_task.mainloop()"
   ]
  },
  {
   "cell_type": "markdown",
   "id": "9f1ce8bb",
   "metadata": {},
   "source": [
    "# Function to delete a selected task"
   ]
  },
  {
   "cell_type": "code",
   "execution_count": 4,
   "id": "cf0cc30f",
   "metadata": {},
   "outputs": [],
   "source": [
    "def delete_task():\n",
    "    selected = listbox_task.curselection()\n",
    "    if selected:\n",
    "        listbox_task.delete(selected[0])"
   ]
  },
  {
   "cell_type": "markdown",
   "id": "e5c7af40",
   "metadata": {},
   "source": [
    "# Function to mark a selected task as completed"
   ]
  },
  {
   "cell_type": "code",
   "execution_count": 5,
   "id": "eec5b46a",
   "metadata": {},
   "outputs": [],
   "source": [
    "def mark_completed():\n",
    "    selected = listbox_task.curselection()\n",
    "    if selected:\n",
    "        temp_index = selected[0]\n",
    "        temp_text = listbox_task.get(temp_index)\n",
    "        updated_text = temp_text + \" ✔\"\n",
    "        listbox_task.delete(temp_index)\n",
    "        listbox_task.insert(temp_index, updated_text)"
   ]
  },
  {
   "cell_type": "markdown",
   "id": "d9da2d98",
   "metadata": {},
   "source": [
    "# Main window setup"
   ]
  },
  {
   "cell_type": "code",
   "execution_count": 6,
   "id": "f7a688fa",
   "metadata": {},
   "outputs": [
    {
     "data": {
      "text/plain": [
       "''"
      ]
     },
     "execution_count": 6,
     "metadata": {},
     "output_type": "execute_result"
    }
   ],
   "source": [
    "window = Tk()\n",
    "window.title(\"To-Do List App\")"
   ]
  },
  {
   "cell_type": "markdown",
   "id": "e576b6bf",
   "metadata": {},
   "source": [
    "# Frame to hold the listbox and scrollbar"
   ]
  },
  {
   "cell_type": "code",
   "execution_count": 7,
   "id": "ec7f8011",
   "metadata": {},
   "outputs": [],
   "source": [
    "frame_task = Frame(window)\n",
    "frame_task.pack()"
   ]
  },
  {
   "cell_type": "markdown",
   "id": "8cdbdd79",
   "metadata": {},
   "source": [
    "# Listbox to hold tasks"
   ]
  },
  {
   "cell_type": "code",
   "execution_count": 8,
   "id": "03cae15c",
   "metadata": {},
   "outputs": [],
   "source": [
    "listbox_task = Listbox(frame_task, bg=\"black\", fg=\"white\", height=15, width=50, font=\"Helvetica\")\n",
    "listbox_task.pack(side=LEFT)"
   ]
  },
  {
   "cell_type": "markdown",
   "id": "2b0584e1",
   "metadata": {},
   "source": [
    "# Scrollbar for the listbox"
   ]
  },
  {
   "cell_type": "code",
   "execution_count": 9,
   "id": "e33868cb",
   "metadata": {},
   "outputs": [],
   "source": [
    "scrollbar_task = Scrollbar(frame_task)\n",
    "scrollbar_task.pack(side=RIGHT, fill=Y)\n",
    "listbox_task.config(yscrollcommand=scrollbar_task.set)\n",
    "scrollbar_task.config(command=listbox_task.yview)"
   ]
  },
  {
   "cell_type": "markdown",
   "id": "21fbd05f",
   "metadata": {},
   "source": [
    "# Buttons"
   ]
  },
  {
   "cell_type": "code",
   "execution_count": 10,
   "id": "d56d38ef",
   "metadata": {},
   "outputs": [],
   "source": [
    "# Buttons\n",
    "add_button = Button(window, text=\"Add Task\", width=50, command=enter_task)\n",
    "add_button.pack(pady=3)\n",
    "\n",
    "delete_button = Button(window, text=\"Delete Selected Task\", width=50, command=delete_task)\n",
    "delete_button.pack(pady=3)\n",
    "\n",
    "mark_button = Button(window, text=\"Mark as Completed\", width=50, command=mark_completed)\n",
    "mark_button.pack(pady=3)"
   ]
  },
  {
   "cell_type": "markdown",
   "id": "64237fc6",
   "metadata": {},
   "source": [
    "# Run the Tkinter event loop"
   ]
  },
  {
   "cell_type": "code",
   "execution_count": 11,
   "id": "cae31e2f",
   "metadata": {},
   "outputs": [],
   "source": [
    "window.mainloop()"
   ]
  }
 ],
 "metadata": {
  "kernelspec": {
   "display_name": "Python 3 (ipykernel)",
   "language": "python",
   "name": "python3"
  },
  "language_info": {
   "codemirror_mode": {
    "name": "ipython",
    "version": 3
   },
   "file_extension": ".py",
   "mimetype": "text/x-python",
   "name": "python",
   "nbconvert_exporter": "python",
   "pygments_lexer": "ipython3",
   "version": "3.11.4"
  }
 },
 "nbformat": 4,
 "nbformat_minor": 5
}
